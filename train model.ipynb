{
 "cells": [
  {
   "cell_type": "markdown",
   "metadata": {},
   "source": []
  },
  {
   "cell_type": "code",
   "execution_count": 1,
   "metadata": {},
   "outputs": [],
   "source": [
    "import numpy as np\n",
    "\n",
    "data=np.load('data.npy')\n",
    "target=np.load('target.npy')\n",
    "\n",
    "#loading the save numpy arrays in the previous code"
   ]
  },
  {
   "cell_type": "code",
   "execution_count": 2,
   "metadata": {},
   "outputs": [],
   "source": [
    "import tensorflow as tf\n",
    "from keras.models import Sequential\n",
    "from keras.layers import Dense,Activation,Flatten,Dropout\n",
    "from keras.layers import Conv2D,MaxPooling2D\n",
    "from keras.callbacks import ModelCheckpoint\n",
    "\n",
    "model=Sequential()\n",
    "\n",
    "model.add(Conv2D(200,(3,3),input_shape=data.shape[1:]))\n",
    "model.add(Activation('relu'))\n",
    "model.add(MaxPooling2D(pool_size=(2,2)))\n",
    "#The first CNN layer followed by Relu and MaxPooling layers\n",
    "\n",
    "model.add(Conv2D(100,(3,3)))\n",
    "model.add(Activation('relu'))\n",
    "model.add(MaxPooling2D(pool_size=(2,2)))\n",
    "#The second convolution layer followed by Relu and MaxPooling layers\n",
    "\n",
    "model.add(Flatten())\n",
    "model.add(Dropout(0.5))\n",
    "#Flatten layer to stack the output convolutions from second convolution layer\n",
    "model.add(Dense(50,activation='relu'))\n",
    "#Dense layer of 64 neurons\n",
    "model.add(Dense(2,activation='softmax'))\n",
    "#The Final layer with two outputs for two categories\n",
    "\n",
    "model.compile(loss='categorical_crossentropy',optimizer='adam',metrics=['accuracy'])"
   ]
  },
  {
   "cell_type": "code",
   "execution_count": 3,
   "metadata": {},
   "outputs": [],
   "source": [
    "from sklearn.model_selection import train_test_split\n",
    "\n",
    "train_data,test_data,train_target,test_target=train_test_split(data,target,test_size=0.1)"
   ]
  },
  {
   "cell_type": "code",
   "execution_count": 4,
   "metadata": {},
   "outputs": [
    {
     "name": "stdout",
     "output_type": "stream",
     "text": [
      "Epoch 1/20\n",
      "86/86 [==============================] - 412s 5s/step - loss: 0.6181 - accuracy: 0.6803 - val_loss: 0.4052 - val_accuracy: 0.8149\n",
      "INFO:tensorflow:Assets written to: model-001.model\\assets\n",
      "Epoch 2/20\n",
      "86/86 [==============================] - 355s 4s/step - loss: 0.3953 - accuracy: 0.8188 - val_loss: 0.3233 - val_accuracy: 0.8630\n",
      "INFO:tensorflow:Assets written to: model-002.model\\assets\n",
      "Epoch 3/20\n",
      "86/86 [==============================] - 352s 4s/step - loss: 0.3135 - accuracy: 0.8564 - val_loss: 0.2651 - val_accuracy: 0.8950\n",
      "INFO:tensorflow:Assets written to: model-003.model\\assets\n",
      "Epoch 4/20\n",
      "86/86 [==============================] - 365s 4s/step - loss: 0.2431 - accuracy: 0.8939 - val_loss: 0.2415 - val_accuracy: 0.9009\n",
      "INFO:tensorflow:Assets written to: model-004.model\\assets\n",
      "Epoch 5/20\n",
      "86/86 [==============================] - 358s 4s/step - loss: 0.1840 - accuracy: 0.9260 - val_loss: 0.2638 - val_accuracy: 0.8980\n",
      "Epoch 6/20\n",
      "86/86 [==============================] - 354s 4s/step - loss: 0.1693 - accuracy: 0.9340 - val_loss: 0.2205 - val_accuracy: 0.9125\n",
      "INFO:tensorflow:Assets written to: model-006.model\\assets\n",
      "Epoch 7/20\n",
      "86/86 [==============================] - 353s 4s/step - loss: 0.1219 - accuracy: 0.9522 - val_loss: 0.2191 - val_accuracy: 0.9140\n",
      "INFO:tensorflow:Assets written to: model-007.model\\assets\n",
      "Epoch 8/20\n",
      "86/86 [==============================] - 355s 4s/step - loss: 0.1200 - accuracy: 0.9588 - val_loss: 0.2896 - val_accuracy: 0.9155\n",
      "Epoch 9/20\n",
      "86/86 [==============================] - 356s 4s/step - loss: 0.0894 - accuracy: 0.9683 - val_loss: 0.2399 - val_accuracy: 0.9155\n",
      "Epoch 10/20\n",
      "86/86 [==============================] - 349s 4s/step - loss: 0.0756 - accuracy: 0.9716 - val_loss: 0.2254 - val_accuracy: 0.9169\n",
      "Epoch 11/20\n",
      "86/86 [==============================] - 377s 4s/step - loss: 0.0571 - accuracy: 0.9789 - val_loss: 0.2687 - val_accuracy: 0.9227\n",
      "Epoch 12/20\n",
      "86/86 [==============================] - 350s 4s/step - loss: 0.0478 - accuracy: 0.9843 - val_loss: 0.2541 - val_accuracy: 0.9286\n",
      "Epoch 13/20\n",
      "86/86 [==============================] - 352s 4s/step - loss: 0.0282 - accuracy: 0.9902 - val_loss: 0.2700 - val_accuracy: 0.9359\n",
      "Epoch 14/20\n",
      "86/86 [==============================] - 347s 4s/step - loss: 0.0309 - accuracy: 0.9898 - val_loss: 0.2880 - val_accuracy: 0.9198\n",
      "Epoch 15/20\n",
      "86/86 [==============================] - 352s 4s/step - loss: 0.0270 - accuracy: 0.9905 - val_loss: 0.2797 - val_accuracy: 0.9242\n",
      "Epoch 16/20\n",
      "86/86 [==============================] - 354s 4s/step - loss: 0.0283 - accuracy: 0.9931 - val_loss: 0.2921 - val_accuracy: 0.9184\n",
      "Epoch 17/20\n",
      "86/86 [==============================] - 357s 4s/step - loss: 0.0228 - accuracy: 0.9909 - val_loss: 0.2897 - val_accuracy: 0.9286\n",
      "Epoch 18/20\n",
      "86/86 [==============================] - 362s 4s/step - loss: 0.0211 - accuracy: 0.9931 - val_loss: 0.2752 - val_accuracy: 0.9359\n",
      "Epoch 19/20\n",
      "86/86 [==============================] - 374s 4s/step - loss: 0.0150 - accuracy: 0.9945 - val_loss: 0.2994 - val_accuracy: 0.9257\n",
      "Epoch 20/20\n",
      "86/86 [==============================] - 432s 5s/step - loss: 0.0255 - accuracy: 0.9916 - val_loss: 0.3332 - val_accuracy: 0.9169\n"
     ]
    }
   ],
   "source": [
    "checkpoint = ModelCheckpoint('model-{epoch:03d}.model',monitor='val_loss',verbose=0,save_best_only=True,mode='auto')\n",
    "history=model.fit(train_data,train_target,epochs=10,callbacks=[checkpoint],validation_split=0.2)"
   ]
  },
  {
   "cell_type": "code",
   "execution_count": 5,
   "metadata": {},
   "outputs": [
    {
     "data": {
      "image/png": "[encoded data removed]",
      "text/plain": [
       "<Figure size 432x288 with 1 Axes>"
      ]
     },
     "metadata": {
      "needs_background": "light"
     },
     "output_type": "display_data"
    }
   ],
   "source": [
    "from matplotlib import pyplot as plt\n",
    "\n",
    "plt.plot(history.history['loss'],'r',label='training loss')\n",
    "plt.plot(history.history['val_loss'],label='validation loss')\n",
    "plt.xlabel('# epochs')\n",
    "plt.ylabel('loss')\n",
    "plt.legend()\n",
    "plt.show()"
   ]
  },
  {
   "cell_type": "code",
   "execution_count": 6,
   "metadata": {},
   "outputs": [
    {
     "data": {
      "image/png": "[encoded data removed]",
      "text/plain": [
       "<Figure size 432x288 with 1 Axes>"
      ]
     },
     "metadata": {
      "needs_background": "light"
     },
     "output_type": "display_data"
    }
   ],
   "source": [
    "plt.plot(history.history['accuracy'],'r',label='training accuracy')\n",
    "plt.plot(history.history['val_accuracy'],label='validation accuracy')\n",
    "plt.xlabel('# epochs')\n",
    "plt.ylabel('loss')\n",
    "plt.legend()\n",
    "plt.show()"
   ]
  },
  {
   "cell_type": "code",
   "execution_count": 7,
   "metadata": {},
   "outputs": [
    {
     "name": "stdout",
     "output_type": "stream",
     "text": [
      "12/12 [==============================] - 8s 646ms/step - loss: 0.3688 - accuracy: 0.9186\n",
      "[0.3687729835510254, 0.9186351895332336]\n"
     ]
    }
   ],
   "source": [
    "print(model.evaluate(test_data,test_target))"
   ]
  },
  {
   "cell_type": "code",
   "execution_count": null,
   "metadata": {},
   "outputs": [],
   "source": []
  },
  {
   "cell_type": "code",
   "execution_count": null,
   "metadata": {},
   "outputs": [],
   "source": []
  },
  {
   "cell_type": "code",
   "execution_count": null,
   "metadata": {},
   "outputs": [],
   "source": []
  },
  {
   "cell_type": "code",
   "execution_count": null,
   "metadata": {},
   "outputs": [],
   "source": []
  }
 ],
 "metadata": {
  "kernelspec": {
   "display_name": "Python 3",
   "language": "python",
   "name": "python3"
  },
  "language_info": {
   "codemirror_mode": {
    "name": "ipython",
    "version": 3
   },
   "file_extension": ".py",
   "mimetype": "text/x-python",
   "name": "python",
   "nbconvert_exporter": "python",
   "pygments_lexer": "ipython3",
   "version": "3.9.5"
  }
 },
 "nbformat": 4,
 "nbformat_minor": 2
}
